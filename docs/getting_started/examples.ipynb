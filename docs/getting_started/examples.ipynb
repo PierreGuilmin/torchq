{
 "cells": [
  {
   "cell_type": "markdown",
   "metadata": {},
   "source": [
    "# Basic examples\n",
    "\n",
    "First time using dynamiqs? Below are a few basic examples to help you get started. For a more complete set of tutorials, check out our [Tutorials](../tutorials/index.md) section.\n",
    "\n",
    "## Simulate a lossy quantum harmonic oscillator\n",
    "\n",
    "This first example shows simulation of a lossy harmonic oscillator with Hamiltonian $H=\\omega a^\\dagger a$ and a single jump operator $L=\\sqrt{\\kappa} a$ using QuTiP-defined objects:"
   ]
  },
  {
   "cell_type": "code",
   "execution_count": 1,
   "metadata": {},
   "outputs": [
    {
     "name": "stderr",
     "output_type": "stream",
     "text": [
      "|██████████| 100.0% - time 00:00/00:00"
     ]
    },
    {
     "name": "stdout",
     "output_type": "stream",
     "text": [
      "==== Result ====\n",
      "Method       : Dopri5\n",
      "Start        : 2023-09-10 16:57:34\n",
      "End          : 2023-09-10 16:57:35\n",
      "Total time   : 0.48 s\n",
      "states       : Tensor (101, 128, 128) | 12.62 Mb\n"
     ]
    },
    {
     "name": "stderr",
     "output_type": "stream",
     "text": [
      "\n"
     ]
    }
   ],
   "source": [
    "import dynamiqs as dq\n",
    "import numpy as np\n",
    "import qutip as qt\n",
    "import torch\n",
    "\n",
    "# parameters\n",
    "n = 128  # Hilbert space dimension\n",
    "omega = 1.0  # frequency\n",
    "kappa = 0.1  # decay rate\n",
    "alpha0 = 1.0  # initial coherent state amplitude\n",
    "\n",
    "# QuTiP operators, initial state and saving times\n",
    "a = qt.destroy(n)\n",
    "H = omega * a.dag() * a\n",
    "jump_ops = [np.sqrt(kappa) * a]\n",
    "rho0 = qt.coherent_dm(n, alpha0)\n",
    "t_save = np.linspace(0, 1.0, 101)\n",
    "\n",
    "# uncomment the next line to run the simulation on GPU\n",
    "# torch.set_default_device('gpu')\n",
    "\n",
    "# simulation\n",
    "result = dq.mesolve(H, jump_ops, rho0, t_save)\n",
    "print(result)"
   ]
  },
  {
   "cell_type": "markdown",
   "metadata": {},
   "source": [
    "## Compute gradients with respect to some parameters\n",
    "\n",
    "Suppose that in the above example, we want to compute the gradient of the number of photons in the final state, $\\bar{n} = \\mathrm{Tr}[a^\\dagger a \\rho(t_f)]$, with respect to the decay rate $\\kappa$ and the initial coherent state amplitude $\\alpha_0$. For this computation, we will define the objects with dynamiqs:"
   ]
  },
  {
   "cell_type": "code",
   "execution_count": 2,
   "metadata": {},
   "outputs": [
    {
     "name": "stdout",
     "output_type": "stream",
     "text": [
      "gradient wrt to kappa  : tensor([-0.9048])\n",
      "gradient wrt to alpha0 : tensor([1.8097])\n"
     ]
    }
   ],
   "source": [
    "import dynamiqs as dq\n",
    "import numpy as np\n",
    "import torch\n",
    "\n",
    "# parameters\n",
    "n = 128\n",
    "omega = 1.0\n",
    "kappa = torch.tensor([0.1], requires_grad=True)\n",
    "alpha0 = torch.tensor([1.0], requires_grad=True)\n",
    "\n",
    "# dynamiqs operators, initial state and saving times\n",
    "a = dq.destroy(n)\n",
    "H = omega * a.mH @ a\n",
    "jump_ops = [torch.sqrt(kappa) * a]\n",
    "rho0 = dq.coherent_dm(n, alpha0)\n",
    "t_save = np.linspace(0, 1.0, 101)\n",
    "\n",
    "# uncomment the next line to run the simulation on GPU\n",
    "# torch.set_default_device('gpu')\n",
    "\n",
    "# simulation\n",
    "options = dict(verbose=False)\n",
    "result = dq.mesolve(H, jump_ops, rho0, t_save, gradient='autograd', options=options)\n",
    "\n",
    "# gradient computation\n",
    "loss = dq.expect(a.mH @ a, result.states[-1])  # Tr[a^dag a rho]\n",
    "grads = torch.autograd.grad(loss, (kappa, alpha0))\n",
    "print(f'gradient wrt to kappa  : {grads[0]}\\ngradient wrt to alpha0 : {grads[1]}')"
   ]
  }
 ],
 "metadata": {
  "kernelspec": {
   "display_name": "base",
   "language": "python",
   "name": "python3"
  },
  "language_info": {
   "codemirror_mode": {
    "name": "ipython",
    "version": 3
   },
   "file_extension": ".py",
   "mimetype": "text/x-python",
   "name": "python",
   "nbconvert_exporter": "python",
   "pygments_lexer": "ipython3",
   "version": "3.11.4"
  },
  "orig_nbformat": 4
 },
 "nbformat": 4,
 "nbformat_minor": 2
}
